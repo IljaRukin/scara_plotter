{
 "cells": [
  {
   "cell_type": "markdown",
   "metadata": {},
   "source": [
    "## import libraries"
   ]
  },
  {
   "cell_type": "code",
   "execution_count": 10,
   "metadata": {},
   "outputs": [],
   "source": [
    "import urllib.request\n",
    "from time import sleep\n",
    "\n",
    "url = \"http://192.168.0.5\"\n",
    "\n",
    "def sendPOST(data,url):\n",
    "    data = urllib.parse.urlencode(data).encode()\n",
    "    req =  urllib.request.Request(url, data=data)\n",
    "    resp = urllib.request.urlopen(req, timeout=10).read()\n",
    "    return resp.decode(\"utf-8\")\n",
    "\n",
    "def sendGET(url):\n",
    "    resp = urllib.request.urlopen(url, timeout=10).read()\n",
    "    return resp.decode(\"utf-8\")\n"
   ]
  },
  {
   "cell_type": "markdown",
   "metadata": {},
   "source": [
    "## send data using GET\n",
    "inside url section"
   ]
  },
  {
   "cell_type": "code",
   "execution_count": 19,
   "metadata": {},
   "outputs": [
    {
     "name": "stdout",
     "output_type": "stream",
     "text": [
      "ack\n",
      "ack\n"
     ]
    }
   ],
   "source": [
    "print( sendGET(url+\"/LED_OFF\") )\n",
    "sleep(0.1)\n",
    "print( sendGET(url+\"/LED_ON\") )\n",
    "sleep(0.1)"
   ]
  },
  {
   "cell_type": "raw",
   "metadata": {},
   "source": [
    "ESP8266 receives:\n",
    "\n",
    "Request:GET ###/LED_OFF### HTTP/1.1\n",
    "Accept-Encoding: identity\n",
    "Host: 192.168.0.9\n",
    "User-Agent: Python-urllib/3.7\n",
    "Connection: close\n"
   ]
  },
  {
   "cell_type": "markdown",
   "metadata": {},
   "source": [
    "## send data using POST\n",
    "as data packet"
   ]
  },
  {
   "cell_type": "code",
   "execution_count": 15,
   "metadata": {},
   "outputs": [
    {
     "name": "stdout",
     "output_type": "stream",
     "text": [
      "ack\n"
     ]
    }
   ],
   "source": [
    "commands = [\"LED_OFF\",\"LED_ON\"]\n",
    "data = dict()\n",
    "p=0\n",
    "for c in commands:\n",
    "    data[str(p)] = str(c)\n",
    "    p+=1\n",
    "\n",
    "#equal to:\n",
    "#data = {'0':'LED_OFF','1':'LED_ON'}\n",
    "\n",
    "print( sendPOST(data,url) )"
   ]
  },
  {
   "cell_type": "raw",
   "metadata": {},
   "source": [
    "ESP8266 receives:\n",
    "\n",
    "Request:POST /LED_OFF HTTP/1.1\n",
    "Accept-Encoding: identity\n",
    "Content-Type: application/x-www-form-urlencoded\n",
    "Content-Length: 9\n",
    "Host: 192.168.0.9\n",
    "User-Agent: Python-urllib/3.7\n",
    "Connection: close\n",
    "\n",
    "###0=LED_OFF&1=LED_ON###"
   ]
  },
  {
   "cell_type": "markdown",
   "metadata": {},
   "source": [
    "### find ip's with open port 80"
   ]
  },
  {
   "cell_type": "code",
   "execution_count": 5,
   "metadata": {},
   "outputs": [
    {
     "name": "stdout",
     "output_type": "stream",
     "text": [
      "Device found at: 192.168.0.1:80\n",
      "Device found at: 192.168.0.5:80\n",
      "Device found at: 192.168.0.7:80\n"
     ]
    }
   ],
   "source": [
    "import socket\n",
    "\n",
    "def connect(hostname, port):\n",
    "    sock = socket.socket(socket.AF_INET, socket.SOCK_STREAM)\n",
    "    socket.setdefaulttimeout(1)\n",
    "    result = sock.connect_ex((hostname, port))\n",
    "    sock.close()\n",
    "    return result == 0\n",
    "\n",
    "ip = \"192.168.0.\"\n",
    "port = 80\n",
    "\n",
    "for i in range(0,256):\n",
    "    res = connect(ip+str(i), port)\n",
    "    if res:\n",
    "        print(\"Device found at: \" + ip + str(i) + \":\" + str(port))\n"
   ]
  },
  {
   "cell_type": "code",
   "execution_count": null,
   "metadata": {},
   "outputs": [],
   "source": []
  }
 ],
 "metadata": {
  "kernelspec": {
   "display_name": "Python 3",
   "language": "python",
   "name": "python3"
  },
  "language_info": {
   "codemirror_mode": {
    "name": "ipython",
    "version": 3
   },
   "file_extension": ".py",
   "mimetype": "text/x-python",
   "name": "python",
   "nbconvert_exporter": "python",
   "pygments_lexer": "ipython3",
   "version": "3.9.0"
  }
 },
 "nbformat": 4,
 "nbformat_minor": 2
}
